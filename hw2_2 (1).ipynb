{
 "cells": [
  {
   "cell_type": "code",
   "execution_count": 1,
   "metadata": {},
   "outputs": [],
   "source": [
    "not_empty_ones = []\n",
    "with open('Записки охотника.txt', 'r', encoding='utf-8') as f:\n",
    "    g = f.read().split()\n",
    "    for i, word in enumerate(g):\n",
    "        g[i] = word.strip(',.\";:!?><()-=%*-][}{')\n",
    "        if g[i] != '':\n",
    "            not_empty_ones.append(g[i])"
   ]
  },
  {
   "cell_type": "code",
   "execution_count": 2,
   "metadata": {},
   "outputs": [],
   "source": [
    "import pandas as pd\n",
    "import pymorphy2\n",
    "morph = pymorphy2.MorphAnalyzer()\n",
    "for word in not_empty_ones:\n",
    "    p = morph.parse(word)[0]\n",
    "    for word in not_empty_ones:\n",
    "        dictionary = {\"Лексема\": [p.word],\n",
    "              \"Часть речи\": [p.tag.POS],\n",
    "              \"Падеж\": [p.tag.case],\n",
    "              \"Число\": [p.tag.number],\n",
    "              \"Одушевленность\": [p.tag.animacy],\n",
    "              \"Вид\": [p.tag.aspect],\n",
    "              \"Род\": [p.tag.gender],\n",
    "              \"Включенность говорящего в действие\": [p.tag.involvement],\n",
    "              \"Наклонение\": [p.tag.mood],\n",
    "              \"Лицо\": [p.tag.person],\n",
    "              \"Время\": [p.tag.tense],\n",
    "              \"Переходность\": [p.tag.transitivity],\n",
    "              \"Залог\": [p.tag.voice]}\n",
    "        df = pd.DataFrame(dictionary)\n",
    "    print(df)"
   ]
  },
  {
   "cell_type": "code",
   "execution_count": null,
   "metadata": {},
   "outputs": [],
   "source": []
  }
 ],
 "metadata": {
  "kernelspec": {
   "display_name": "Python 3",
   "language": "python",
   "name": "python3"
  },
  "language_info": {
   "codemirror_mode": {
    "name": "ipython",
    "version": 3
   },
   "file_extension": ".py",
   "mimetype": "text/x-python",
   "name": "python",
   "nbconvert_exporter": "python",
   "pygments_lexer": "ipython3",
   "version": "3.7.3"
  }
 },
 "nbformat": 4,
 "nbformat_minor": 2
}
